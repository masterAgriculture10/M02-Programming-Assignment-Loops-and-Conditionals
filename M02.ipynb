{
 "cells": [
  {
   "cell_type": "code",
   "execution_count": null,
   "metadata": {},
   "outputs": [],
   "source": [
    "secret = 1\n",
    "guess = 5\n",
    "\n",
    "if guess < secret:\n",
    "    print(\"Too low\")\n",
    "elif guess > secret:\n",
    "    print(\"Too high\")\n",
    "else:\n",
    "    print(guess \"equals\" secret, \"Just right\")\n",
    "secret = 1\n",
    "guess = 5\n",
    "​\n",
    "if guess < secret:\n",
    "    print(\"Too low\")\n",
    "elif guess > secret:\n",
    "    print(\"Too high\")\n",
    "else:\n",
    "    print(guess \"equals\" secret, \"Just right\")\n",
    "small = True\n",
    "    green = True\n",
    "    if small:\n",
    "        if green:\n",
    "            print(\"It's a pea\")\n",
    "        else:\n",
    "            print(\"It's not a pea it's a pie cherry\")\n",
    "    else:\n",
    "        if green:\n",
    "            print(\"It's a largehead watermelon\")\n",
    "        else:\n",
    "            print(\"It's a spinderally pumpkin\")\n",
    "                \n",
    "for x in range (3, -1):\n",
    "    print x\n",
    "guess_me = 7\n",
    "number = 1\n",
    "​\n",
    "while True:\n",
    "    if number < guess_me:\n",
    "        print(\"Nope, too low\")\n",
    "    elif number == guess_me:\n",
    "        print(\"Ahh Haa, Found it\")\n",
    "        break\n",
    "    else:\n",
    "        print(\"Look, it's greater than\")\n",
    "        number += 1\n",
    "    \n"
   ]
  }
 ],
 "metadata": {
  "language_info": {
   "name": "python"
  },
  "orig_nbformat": 4
 },
 "nbformat": 4,
 "nbformat_minor": 2
}
